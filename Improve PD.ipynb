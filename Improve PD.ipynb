{
 "cells": [
  {
   "cell_type": "markdown",
   "metadata": {},
   "source": [
    "# PD score alternatives\n",
    "\n",
    "Promiscuity Degree(PD) simply counts the Activity cliffs, it can't distinct \"true promiscuity\" from \"apparent promiscuity\" such as Target family dependency.\n",
    "\n",
    "## 1. Count Target family with ChEMBL "
   ]
  },
  {
   "cell_type": "code",
   "execution_count": 106,
   "metadata": {},
   "outputs": [
    {
     "name": "stdout",
     "output_type": "stream",
     "text": [
      "--2017-11-25 10:56:03--  https://zenodo.org/record/200393/files/784_Promiscuity_Cliffs.txt\n",
      "Resolving zenodo.org... 188.184.65.20\n",
      "Connecting to zenodo.org|188.184.65.20|:443... connected.\n",
      "HTTP request sent, awaiting response... 200 OK\n",
      "\n",
      "    The file is already fully retrieved; nothing to do.\n",
      "\n"
     ]
    }
   ],
   "source": [
    "!wget -c https://zenodo.org/record/200393/files/784_Promiscuity_Cliffs.txt"
   ]
  },
  {
   "cell_type": "code",
   "execution_count": 107,
   "metadata": {
    "collapsed": true
   },
   "outputs": [],
   "source": [
    "import pandas as pd\n",
    "from IPython.display import HTML, display\n",
    "from pychembldb import *\n",
    "import numpy as np\n",
    "import subprocess\n",
    "from sklearn.cluster import AffinityPropagation\n",
    "from sklearn.manifold import MDS\n",
    "from matplotlib import pyplot as plt\n",
    "%matplotlib inline\n",
    "import seaborn as sns"
   ]
  },
  {
   "cell_type": "code",
   "execution_count": 170,
   "metadata": {
    "collapsed": true
   },
   "outputs": [],
   "source": [
    "df = pd.read_table(\"784_Promiscuity_Cliffs.txt\")"
   ]
  },
  {
   "cell_type": "code",
   "execution_count": 171,
   "metadata": {},
   "outputs": [
    {
     "name": "stdout",
     "output_type": "stream",
     "text": [
      "1\n",
      "CHEMBL3028 Enzyme\n",
      "CHEMBL5896 Plant homeodomain\n",
      "CHEMBL5697 Enzyme\n",
      "CHEMBL6175 Plant homeodomain\n",
      "CHEMBL1938210 Plant homeodomain\n",
      "CHEMBL1938211 Jumonji domain-containing\n",
      "CHEMBL1938212 Jumonji domain-containing\n",
      "CHEMBL2163176 Plant homeodomain\n",
      "CHEMBL2331065 Unclassified protein\n",
      "CHEMBL2424504 Jumonji domain-containing\n",
      "CHEMBL5909 Enzyme\n",
      "2\n",
      "CHEMBL3028 Enzyme\n",
      "CHEMBL5896 Plant homeodomain\n",
      "CHEMBL5697 Enzyme\n",
      "CHEMBL6175 Plant homeodomain\n",
      "CHEMBL1938210 Plant homeodomain\n",
      "CHEMBL1938211 Jumonji domain-containing\n",
      "CHEMBL1938212 Jumonji domain-containing\n",
      "CHEMBL2163176 Plant homeodomain\n",
      "CHEMBL2331065 Unclassified protein\n",
      "CHEMBL2424504 Jumonji domain-containing\n",
      "CHEMBL5909 Enzyme\n",
      "3\n",
      "CHEMBL3028 Enzyme\n",
      "CHEMBL5896 Plant homeodomain\n",
      "CHEMBL5697 Enzyme\n",
      "CHEMBL6175 Plant homeodomain\n",
      "CHEMBL1938210 Plant homeodomain\n",
      "CHEMBL1938211 Jumonji domain-containing\n",
      "CHEMBL1938212 Jumonji domain-containing\n",
      "CHEMBL2163176 Plant homeodomain\n",
      "CHEMBL2331065 Unclassified protein\n",
      "CHEMBL2424504 Jumonji domain-containing\n",
      "CHEMBL5909 Enzyme\n"
     ]
    }
   ],
   "source": [
    "for idx, row in df.iterrows():\n",
    "    if idx > 2:\n",
    "        break\n",
    "    else:\n",
    "        print(row[\"PromiscuityCliff_ID\"])\n",
    "    chemblids = [cid.strip() for cid in row[\"CPD_1_ChEMBL_TARGETS\"].split(\",\")]\n",
    "    for chemblid in chemblids:\n",
    "        r = chembldb.query(Target).filter_by(chembl_id=chemblid).first()\n",
    "        print(r.chembl_id, r.components[0].classes[0].pref_name)"
   ]
  },
  {
   "cell_type": "markdown",
   "metadata": {
    "collapsed": true
   },
   "source": [
    "This approarch does not work well ;-("
   ]
  },
  {
   "cell_type": "markdown",
   "metadata": {},
   "source": [
    "## 2. Considering similarity matrix to PD\n",
    "\n",
    "Calcurate sequence variablility: Ratio of (nuuber of pair whose simirality < 0.7 / total) or Calulate number of Clusters using MDS+AP"
   ]
  },
  {
   "cell_type": "code",
   "execution_count": 172,
   "metadata": {},
   "outputs": [],
   "source": [
    "def mat2arr(matfile):\n",
    "    arr = []\n",
    "    with open(matfile)  as f:\n",
    "        f.readline()\n",
    "        for l in f:\n",
    "            ls = l[:-1].split()\n",
    "            arr.append([float(e) for e in ls[1:]])\n",
    "    return arr"
   ]
  },
  {
   "cell_type": "code",
   "execution_count": 173,
   "metadata": {
    "collapsed": true
   },
   "outputs": [],
   "source": [
    "def count_desim(mat):\n",
    "        pd = len(mat[0])\n",
    "        total = 0\n",
    "        fd = 0\n",
    "        for i in range(1, pd):\n",
    "            for j in range(0, pd-1):\n",
    "                if mat[i][j] < 0.7:\n",
    "                    fd += 1\n",
    "                total += 1\n",
    "        target_diversity = float(fd) / total\n",
    "        return target_diversity"
   ]
  },
  {
   "cell_type": "code",
   "execution_count": 174,
   "metadata": {
    "scrolled": false
   },
   "outputs": [
    {
     "name": "stdout",
     "output_type": "stream",
     "text": [
      "Promiscuity ID:  0 PD:  11 TFD:  2\n",
      "Promiscuity ID:  6 PD:  11 TFD:  2\n",
      "Promiscuity ID:  42 PD:  11 TFD:  2\n",
      "Promiscuity ID:  57 PD:  11 TFD:  2\n",
      "Promiscuity ID:  58 PD:  11 TFD:  2\n",
      "Promiscuity ID:  62 PD:  11 TFD:  2\n",
      "Promiscuity ID:  64 PD:  11 TFD:  2\n",
      "Promiscuity ID:  70 PD:  11 TFD:  2\n",
      "Promiscuity ID:  91 PD:  11 TFD:  2\n",
      "Promiscuity ID:  92 PD:  11 TFD:  2\n",
      "Promiscuity ID:  96 PD:  11 TFD:  2\n",
      "Promiscuity ID:  97 PD:  11 TFD:  2\n",
      "Promiscuity ID:  99 PD:  11 TFD:  2\n",
      "Promiscuity ID:  103 PD:  11 TFD:  2\n",
      "Promiscuity ID:  157 PD:  11 TFD:  2\n",
      "Promiscuity ID:  158 PD:  12 TFD:  2\n",
      "Promiscuity ID:  183 PD:  12 TFD:  2\n",
      "Promiscuity ID:  194 PD:  12 TFD:  2\n",
      "Promiscuity ID:  195 PD:  12 TFD:  2\n",
      "Promiscuity ID:  215 PD:  12 TFD:  2\n",
      "Promiscuity ID:  265 PD:  12 TFD:  2\n",
      "Promiscuity ID:  267 PD:  12 TFD:  2\n",
      "Promiscuity ID:  268 PD:  12 TFD:  2\n",
      "Promiscuity ID:  270 PD:  12 TFD:  2\n",
      "Promiscuity ID:  272 PD:  12 TFD:  2\n",
      "Promiscuity ID:  286 PD:  12 TFD:  2\n",
      "Promiscuity ID:  289 PD:  12 TFD:  3\n",
      "Promiscuity ID:  293 PD:  12 TFD:  2\n",
      "Promiscuity ID:  297 PD:  12 TFD:  2\n",
      "Promiscuity ID:  298 PD:  12 TFD:  2\n",
      "Promiscuity ID:  299 PD:  12 TFD:  2\n",
      "Promiscuity ID:  300 PD:  12 TFD:  2\n",
      "Promiscuity ID:  302 PD:  12 TFD:  2\n",
      "Promiscuity ID:  319 PD:  13 TFD:  3\n",
      "Promiscuity ID:  324 PD:  13 TFD:  2\n",
      "Promiscuity ID:  329 PD:  13 TFD:  3\n",
      "Promiscuity ID:  337 PD:  13 TFD:  3\n",
      "Promiscuity ID:  340 PD:  13 TFD:  2\n",
      "Promiscuity ID:  345 PD:  13 TFD:  2\n",
      "Promiscuity ID:  346 PD:  13 TFD:  2\n",
      "Promiscuity ID:  347 PD:  13 TFD:  3\n",
      "Promiscuity ID:  348 PD:  13 TFD:  3\n",
      "Promiscuity ID:  349 PD:  13 TFD:  2\n",
      "Promiscuity ID:  356 PD:  13 TFD:  2\n",
      "Promiscuity ID:  362 PD:  13 TFD:  2\n",
      "Promiscuity ID:  364 PD:  14 TFD:  3\n",
      "Promiscuity ID:  375 PD:  14 TFD:  3\n",
      "Promiscuity ID:  378 PD:  14 TFD:  2\n",
      "Promiscuity ID:  383 PD:  14 TFD:  3\n",
      "Promiscuity ID:  384 PD:  14 TFD:  3\n",
      "Promiscuity ID:  385 PD:  14 TFD:  2\n",
      "Promiscuity ID:  386 PD:  14 TFD:  3\n",
      "Promiscuity ID:  387 PD:  15 TFD:  2\n",
      "Promiscuity ID:  421 PD:  15 TFD:  3\n",
      "Promiscuity ID:  423 PD:  15 TFD:  3\n",
      "Promiscuity ID:  445 PD:  15 TFD:  2\n",
      "Promiscuity ID:  446 PD:  15 TFD:  2\n",
      "Promiscuity ID:  447 PD:  16 TFD:  3\n",
      "Promiscuity ID:  448 PD:  16 TFD:  2\n",
      "Promiscuity ID:  467 PD:  16 TFD:  3\n",
      "Promiscuity ID:  468 PD:  16 TFD:  3\n",
      "Promiscuity ID:  487 PD:  16 TFD:  3\n",
      "Promiscuity ID:  537 PD:  16 TFD:  3\n",
      "Promiscuity ID:  539 PD:  16 TFD:  3\n",
      "Promiscuity ID:  542 PD:  16 TFD:  2\n",
      "Promiscuity ID:  555 PD:  16 TFD:  3\n",
      "Promiscuity ID:  572 PD:  16 TFD:  2\n",
      "Promiscuity ID:  573 PD:  16 TFD:  3\n",
      "Promiscuity ID:  579 PD:  16 TFD:  3\n",
      "Promiscuity ID:  583 PD:  17 TFD:  4\n",
      "Promiscuity ID:  627 PD:  17 TFD:  3\n",
      "Promiscuity ID:  628 PD:  17 TFD:  3\n",
      "Promiscuity ID:  630 PD:  17 TFD:  3\n",
      "Promiscuity ID:  631 PD:  17 TFD:  3\n",
      "Promiscuity ID:  632 PD:  18 TFD:  4\n",
      "Promiscuity ID:  638 PD:  18 TFD:  3\n",
      "Promiscuity ID:  674 PD:  18 TFD:  2\n",
      "Promiscuity ID:  675 PD:  18 TFD:  3\n",
      "Promiscuity ID:  681 PD:  18 TFD:  3\n",
      "Promiscuity ID:  686 PD:  18 TFD:  3\n",
      "Promiscuity ID:  688 PD:  18 TFD:  3\n",
      "Promiscuity ID:  689 PD:  18 TFD:  3\n",
      "Promiscuity ID:  690 PD:  18 TFD:  3\n",
      "Promiscuity ID:  691 PD:  19 TFD:  2\n",
      "Promiscuity ID:  694 PD:  19 TFD:  3\n",
      "Promiscuity ID:  695 PD:  19 TFD:  2\n",
      "Promiscuity ID:  696 PD:  19 TFD:  4\n",
      "Promiscuity ID:  697 PD:  19 TFD:  2\n",
      "Promiscuity ID:  700 PD:  19 TFD:  3\n",
      "Promiscuity ID:  711 PD:  19 TFD:  3\n",
      "Promiscuity ID:  712 PD:  19 TFD:  3\n",
      "Promiscuity ID:  713 PD:  21 TFD:  3\n",
      "Promiscuity ID:  718 PD:  22 TFD:  3\n",
      "Promiscuity ID:  719 PD:  22 TFD:  4\n",
      "Promiscuity ID:  721 PD:  22 TFD:  4\n",
      "Promiscuity ID:  722 PD:  25 TFD:  4\n",
      "Promiscuity ID:  726 PD:  28 TFD:  4\n",
      "Promiscuity ID:  730 PD:  29 TFD:  4\n",
      "Promiscuity ID:  737 PD:  29 TFD:  4\n",
      "Promiscuity ID:  741 PD:  29 TFD:  4\n",
      "Promiscuity ID:  757 PD:  30 TFD:  4\n",
      "Promiscuity ID:  762 PD:  30 TFD:  3\n",
      "Promiscuity ID:  763 PD:  31 TFD:  4\n",
      "Promiscuity ID:  764 PD:  32 TFD:  4\n",
      "Promiscuity ID:  765 PD:  38 TFD:  6\n"
     ]
    }
   ],
   "source": [
    "computed_chemblid = \"\"\n",
    "for idx, row in df.iterrows():\n",
    "    if computed_chemblid != row[\"CPD_1_SMILES\"]:\n",
    "        computed_chemblid = row[\"CPD_1_SMILES\"]\n",
    "        chemblids = [cid.strip() for cid in row[\"CPD_1_ChEMBL_TARGETS\"].split(\",\")]\n",
    "        with open(\"seqs/{}.fa\".format(row[\"PromiscuityCliff_ID\"]), \"w\") as f:\n",
    "            for chemblid in chemblids:\n",
    "                r = chembldb.query(Target).filter_by(chembl_id=chemblid).first()\n",
    "                f.write(\">{}\\n{}\\n\".format(chemblid, r.components[0].sequence))\n",
    "        input = \"seqs/{}.fa\".format(row[\"PromiscuityCliff_ID\"])\n",
    "        output = \"seqs/{}-out.fa\".format(row[\"PromiscuityCliff_ID\"])\n",
    "        distmat = \"seqs/{}.mat\".format(row[\"PromiscuityCliff_ID\"])\n",
    "        if not os.path.exists(distmat):\n",
    "            subprocess.call([\"clustalo\", \"-i\", input, \"-o\", output, \"-v\",  \"--force\", \"--distmat-out={}\".format(distmat), \"--full\"])\n",
    "\n",
    "        mat = mat2arr(distmat)\n",
    "        mds = MDS(2, max_iter=100, n_init=1, dissimilarity='precomputed')\n",
    "        mds_data = mds.fit_transform(mat)\n",
    "        af = AffinityPropagation().fit(mds_data)\n",
    "        df = pd.DataFrame(mds_data, columns=['x', 'y'])\n",
    "        intlabels = map(int, af.labels_)\n",
    "        print(\"Promiscuity ID: \", idx, \"PD: \", len(mat), \"TFD: \", max(intlabels))\n",
    "        #df[\"label\"] = pd.Series(intlabels)\n",
    "        #plt.figure(idx)\n",
    "        #sns.lmplot( x=\"x\", y=\"y\", data=df, fit_reg=False, hue='label', legend=False);\n",
    "\n",
    "\n"
   ]
  },
  {
   "cell_type": "markdown",
   "metadata": {
    "collapsed": true
   },
   "source": [
    "# Conclusion"
   ]
  },
  {
   "cell_type": "markdown",
   "metadata": {},
   "source": [
    "Both methods doesn't work well, but the latter approach has a room for improvement. I used global sequence alignment using clustalomega, but I think local alignments (such as BLAST) are suitable method than clustalomega."
   ]
  }
 ],
 "metadata": {
  "kernelspec": {
   "display_name": "Python 3",
   "language": "python",
   "name": "python3"
  },
  "language_info": {
   "codemirror_mode": {
    "name": "ipython",
    "version": 3
   },
   "file_extension": ".py",
   "mimetype": "text/x-python",
   "name": "python",
   "nbconvert_exporter": "python",
   "pygments_lexer": "ipython3",
   "version": "3.6.3"
  }
 },
 "nbformat": 4,
 "nbformat_minor": 2
}
